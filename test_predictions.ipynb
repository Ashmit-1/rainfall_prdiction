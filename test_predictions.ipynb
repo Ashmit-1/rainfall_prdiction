{
 "cells": [
  {
   "cell_type": "code",
   "execution_count": 89,
   "metadata": {},
   "outputs": [],
   "source": [
    "import numpy as np\n",
    "import pandas as pd\n",
    "import joblib"
   ]
  },
  {
   "cell_type": "code",
   "execution_count": 90,
   "metadata": {},
   "outputs": [],
   "source": [
    "from sklearn.base import BaseEstimator, TransformerMixin\n",
    "\n",
    "class AddDewpointDepression(BaseEstimator, TransformerMixin):\n",
    "    def __init__(self):\n",
    "        pass\n",
    "    def fit(self, X, y=None):\n",
    "        return self\n",
    "    def transform(self, X, y=None):\n",
    "        dew_point_depression = X[:, 3] - X[:, 5]\n",
    "        temp_diff = X[:,2] - X[:,4]\n",
    "        wind_chill = X[:,3] * X[:,10]\n",
    "        return np.c_[X, dew_point_depression, temp_diff, wind_chill]"
   ]
  },
  {
   "cell_type": "code",
   "execution_count": 91,
   "metadata": {},
   "outputs": [],
   "source": [
    "test_data = pd.read_csv(\"test.csv\")\n",
    "# test_data.info()"
   ]
  },
  {
   "cell_type": "code",
   "execution_count": 92,
   "metadata": {},
   "outputs": [],
   "source": [
    "model = joblib.load(\"best_logistic_model_temp_diff.pkl\")\n",
    "full_pipeline = joblib.load(\"full_pipeline_temp_diff.joblib\")\n",
    "\n",
    "tr_test_data = full_pipeline.transform(test_data)"
   ]
  },
  {
   "cell_type": "code",
   "execution_count": 93,
   "metadata": {},
   "outputs": [],
   "source": [
    "\n",
    "tr_test_data = full_pipeline.transform(test_data)"
   ]
  },
  {
   "cell_type": "code",
   "execution_count": 94,
   "metadata": {},
   "outputs": [
    {
     "name": "stdout",
     "output_type": "stream",
     "text": [
      "<class 'pandas.core.frame.DataFrame'>\n",
      "RangeIndex: 730 entries, 0 to 729\n",
      "Data columns (total 14 columns):\n",
      " #   Column  Non-Null Count  Dtype  \n",
      "---  ------  --------------  -----  \n",
      " 0   0       730 non-null    float64\n",
      " 1   1       730 non-null    float64\n",
      " 2   2       730 non-null    float64\n",
      " 3   3       730 non-null    float64\n",
      " 4   4       730 non-null    float64\n",
      " 5   5       730 non-null    float64\n",
      " 6   6       730 non-null    float64\n",
      " 7   7       730 non-null    float64\n",
      " 8   8       730 non-null    float64\n",
      " 9   9       730 non-null    float64\n",
      " 10  10      730 non-null    float64\n",
      " 11  11      730 non-null    float64\n",
      " 12  12      730 non-null    float64\n",
      " 13  13      730 non-null    float64\n",
      "dtypes: float64(14)\n",
      "memory usage: 80.0 KB\n"
     ]
    }
   ],
   "source": [
    "pd.DataFrame(tr_test_data).info()"
   ]
  },
  {
   "cell_type": "code",
   "execution_count": 95,
   "metadata": {},
   "outputs": [],
   "source": [
    "# from sklearn.preprocessing import MinMaxScaler\n",
    "# mms = MinMaxScaler()\n",
    "# model_pred = model.predict(tr_test_data)\n",
    "# model_proba = model.decision_function(tr_test_data)\n",
    "# model_proba = mms.fit_transform(model_proba.reshape(-1, 1))\n",
    "# model_proba"
   ]
  },
  {
   "cell_type": "code",
   "execution_count": 96,
   "metadata": {},
   "outputs": [],
   "source": [
    "model_proba = model.predict_proba(tr_test_data)[:, 1]\n"
   ]
  },
  {
   "cell_type": "code",
   "execution_count": 97,
   "metadata": {},
   "outputs": [],
   "source": [
    "output_data = test_data[[\"id\"]]\n",
    "output_data = output_data.join(pd.DataFrame(model_proba, columns=[\"rainfall\"]))\n",
    "output_data.to_csv(\"output_best_logistic_model_temp_diff.csv\", index=False)"
   ]
  },
  {
   "cell_type": "code",
   "execution_count": 98,
   "metadata": {},
   "outputs": [
    {
     "data": {
      "text/html": [
       "<div>\n",
       "<style scoped>\n",
       "    .dataframe tbody tr th:only-of-type {\n",
       "        vertical-align: middle;\n",
       "    }\n",
       "\n",
       "    .dataframe tbody tr th {\n",
       "        vertical-align: top;\n",
       "    }\n",
       "\n",
       "    .dataframe thead th {\n",
       "        text-align: right;\n",
       "    }\n",
       "</style>\n",
       "<table border=\"1\" class=\"dataframe\">\n",
       "  <thead>\n",
       "    <tr style=\"text-align: right;\">\n",
       "      <th></th>\n",
       "      <th>id</th>\n",
       "      <th>rainfall</th>\n",
       "    </tr>\n",
       "  </thead>\n",
       "  <tbody>\n",
       "    <tr>\n",
       "      <th>0</th>\n",
       "      <td>2190</td>\n",
       "      <td>0.984726</td>\n",
       "    </tr>\n",
       "    <tr>\n",
       "      <th>1</th>\n",
       "      <td>2191</td>\n",
       "      <td>0.983035</td>\n",
       "    </tr>\n",
       "    <tr>\n",
       "      <th>2</th>\n",
       "      <td>2192</td>\n",
       "      <td>0.942872</td>\n",
       "    </tr>\n",
       "    <tr>\n",
       "      <th>3</th>\n",
       "      <td>2193</td>\n",
       "      <td>0.099354</td>\n",
       "    </tr>\n",
       "    <tr>\n",
       "      <th>4</th>\n",
       "      <td>2194</td>\n",
       "      <td>0.052093</td>\n",
       "    </tr>\n",
       "    <tr>\n",
       "      <th>...</th>\n",
       "      <td>...</td>\n",
       "      <td>...</td>\n",
       "    </tr>\n",
       "    <tr>\n",
       "      <th>725</th>\n",
       "      <td>2915</td>\n",
       "      <td>0.963382</td>\n",
       "    </tr>\n",
       "    <tr>\n",
       "      <th>726</th>\n",
       "      <td>2916</td>\n",
       "      <td>0.901008</td>\n",
       "    </tr>\n",
       "    <tr>\n",
       "      <th>727</th>\n",
       "      <td>2917</td>\n",
       "      <td>0.967938</td>\n",
       "    </tr>\n",
       "    <tr>\n",
       "      <th>728</th>\n",
       "      <td>2918</td>\n",
       "      <td>0.982202</td>\n",
       "    </tr>\n",
       "    <tr>\n",
       "      <th>729</th>\n",
       "      <td>2919</td>\n",
       "      <td>0.904440</td>\n",
       "    </tr>\n",
       "  </tbody>\n",
       "</table>\n",
       "<p>730 rows × 2 columns</p>\n",
       "</div>"
      ],
      "text/plain": [
       "       id  rainfall\n",
       "0    2190  0.984726\n",
       "1    2191  0.983035\n",
       "2    2192  0.942872\n",
       "3    2193  0.099354\n",
       "4    2194  0.052093\n",
       "..    ...       ...\n",
       "725  2915  0.963382\n",
       "726  2916  0.901008\n",
       "727  2917  0.967938\n",
       "728  2918  0.982202\n",
       "729  2919  0.904440\n",
       "\n",
       "[730 rows x 2 columns]"
      ]
     },
     "execution_count": 98,
     "metadata": {},
     "output_type": "execute_result"
    }
   ],
   "source": [
    "output_data"
   ]
  },
  {
   "cell_type": "code",
   "execution_count": null,
   "metadata": {},
   "outputs": [],
   "source": []
  }
 ],
 "metadata": {
  "kernelspec": {
   "display_name": "Python 3",
   "language": "python",
   "name": "python3"
  },
  "language_info": {
   "codemirror_mode": {
    "name": "ipython",
    "version": 3
   },
   "file_extension": ".py",
   "mimetype": "text/x-python",
   "name": "python",
   "nbconvert_exporter": "python",
   "pygments_lexer": "ipython3",
   "version": "3.10.12"
  }
 },
 "nbformat": 4,
 "nbformat_minor": 2
}
